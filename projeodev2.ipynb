{
  "cells": [
    {
      "metadata": {
        "trusted": true
      },
      "cell_type": "code",
      "source": "#kütüphanelerin deklerasyonu\nimport pandas as pd\nimport numpy as np\n%matplotlib inline\nimport matplotlib.pyplot as plt\nimport seaborn as sns\nsns.set_style('darkgrid')\nsns.set(font_scale=1.5)",
      "execution_count": 2,
      "outputs": []
    },
    {
      "metadata": {
        "trusted": true
      },
      "cell_type": "code",
      "source": "!pip install pandas-profiling[notebook,html]",
      "execution_count": 9,
      "outputs": [
        {
          "output_type": "stream",
          "text": "Processing /home/nbuser/.cache/pip/wheels/9b/c9/f1/4a2f30c760e017f3e2f46be999c4597a93d126ef5ea38e276f/pandas_profiling-2.5.0-py2.py3-none-any.whl\n\u001b[33m  WARNING: pandas-profiling 2.5.0 does not provide the extra 'html'\u001b[0m\nCollecting matplotlib>=3.0.3\n  Using cached https://files.pythonhosted.org/packages/89/61/465fb3bfba684b0f53b5c4829c3c89e86e6fe9fdcdfda93e38f1788090f0/matplotlib-3.0.3-cp35-cp35m-manylinux1_x86_64.whl\nCollecting missingno==0.4.2\n  Using cached https://files.pythonhosted.org/packages/2b/de/6e4dd6d720c49939544352155dc06a08c9f7e4271aa631a559dfbeaaf9d4/missingno-0.4.2-py3-none-any.whl\nCollecting jinja2==2.11.1\n  Using cached https://files.pythonhosted.org/packages/27/24/4f35961e5c669e96f6559760042a55b9bcfcdb82b9bdb3c8753dbe042e35/Jinja2-2.11.1-py2.py3-none-any.whl\nProcessing /home/nbuser/.cache/pip/wheels/c4/57/cc/5f58206efb00418d4dcae8d08a3cb40627778ea29622f664c6/tangled_up_in_unicode-0.0.3-cp35-none-any.whl\nCollecting astropy>=3.2.3\n  Using cached https://files.pythonhosted.org/packages/25/11/379c5403f59c69f291f962c27c1dc1948f6eb93fd0b63b5473c462ccc53c/astropy-3.2.3-cp35-cp35m-manylinux1_x86_64.whl\nRequirement already satisfied: ipywidgets==7.5.1 in /home/nbuser/anaconda3_420/lib/python3.5/site-packages (from pandas-profiling[html,notebook]) (7.5.1)\nRequirement already satisfied: numpy>=1.16.0 in /home/nbuser/anaconda3_420/lib/python3.5/site-packages (from pandas-profiling[html,notebook]) (1.17.3)\nProcessing /home/nbuser/.cache/pip/wheels/b0/b2/96/2074eee7dbf7b7df69d004c9b6ac4e32dad04fb7666cf943bd/confuse-1.0.0-cp35-none-any.whl\nCollecting requests==2.22.0\n  Using cached https://files.pythonhosted.org/packages/51/bd/23c926cd341ea6b7dd0b2a00aba99ae0f828be89d72b2190f27c11d4b7fb/requests-2.22.0-py2.py3-none-any.whl\nRequirement already satisfied: scipy>=1.4.1 in /home/nbuser/anaconda3_420/lib/python3.5/site-packages (from pandas-profiling[html,notebook]) (1.4.1)\nCollecting tqdm==4.42.0\n  Using cached https://files.pythonhosted.org/packages/cc/2e/4307206db63f05ed37e21d4c0d843d0fbcacd62479f8ce99ba0f2c0875e0/tqdm-4.42.0-py2.py3-none-any.whl\nProcessing /home/nbuser/.cache/pip/wheels/53/87/68/294a9e88d82e395b38571df18f7cb71e9ab51cedae77dd6f31/visions-0.2.2-cp35-none-any.whl\nProcessing /home/nbuser/.cache/pip/wheels/43/07/ac/7c5a9d708d65247ac1f94066cf1db075540b85716c30255459/htmlmin-0.1.12-cp35-none-any.whl\nCollecting phik==0.9.9\n  Using cached https://files.pythonhosted.org/packages/03/cf/b8cef2778104dc5d319f36dd836efaceb07a037cbf63f27c966b5a193ce9/phik-0.9.9-py3-none-any.whl\nProcessing /home/nbuser/.cache/pip/wheels/57/4e/e8/bb28d035162fb8f17f8ca5d42c3230e284c6aa565b42b72674/kaggle-1.5.6-cp35-none-any.whl\nCollecting pandas==0.25.3\n  Using cached https://files.pythonhosted.org/packages/a9/55/e3f34ad611f703454b951bab6bde9a432f1af92994cebc4d8e0ec0af38c4/pandas-0.25.3-cp35-cp35m-manylinux1_x86_64.whl\nCollecting jupyter-client==5.3.4; extra == \"notebook\"\n  Using cached https://files.pythonhosted.org/packages/13/81/fe0eee1bcf949851a120254b1f530ae1e01bdde2d3ab9710c6ff81525061/jupyter_client-5.3.4-py2.py3-none-any.whl\nCollecting jupyter-core==4.6.1; extra == \"notebook\"\n  Using cached https://files.pythonhosted.org/packages/fb/82/86437f661875e30682e99d04c13ba6c216f86f5f6ca6ef212d3ee8b6ca11/jupyter_core-4.6.1-py2.py3-none-any.whl\nRequirement already satisfied: python-dateutil>=2.1 in /home/nbuser/anaconda3_420/lib/python3.5/site-packages (from matplotlib>=3.0.3->pandas-profiling[html,notebook]) (2.8.1)\nRequirement already satisfied: pyparsing!=2.0.4,!=2.1.2,!=2.1.6,>=2.0.1 in /home/nbuser/anaconda3_420/lib/python3.5/site-packages (from matplotlib>=3.0.3->pandas-profiling[html,notebook]) (2.1.4)\nRequirement already satisfied: cycler>=0.10 in /home/nbuser/anaconda3_420/lib/python3.5/site-packages (from matplotlib>=3.0.3->pandas-profiling[html,notebook]) (0.10.0)\nCollecting kiwisolver>=1.0.1\n  Using cached https://files.pythonhosted.org/packages/ee/18/4cd2e84c6aff0c6a50479118083d20b9e676e5175a913c0ea76d700fc244/kiwisolver-1.1.0-cp35-cp35m-manylinux1_x86_64.whl\nRequirement already satisfied: seaborn in /home/nbuser/anaconda3_420/lib/python3.5/site-packages (from missingno==0.4.2->pandas-profiling[html,notebook]) (0.8)\nRequirement already satisfied: MarkupSafe>=0.23 in /home/nbuser/anaconda3_420/lib/python3.5/site-packages (from jinja2==2.11.1->pandas-profiling[html,notebook]) (0.23)\nRequirement already satisfied: traitlets>=4.3.1 in /home/nbuser/anaconda3_420/lib/python3.5/site-packages (from ipywidgets==7.5.1->pandas-profiling[html,notebook]) (4.3.1)\nRequirement already satisfied: ipykernel>=4.5.1 in /home/nbuser/anaconda3_420/lib/python3.5/site-packages (from ipywidgets==7.5.1->pandas-profiling[html,notebook]) (4.7.0)\nRequirement already satisfied: widgetsnbextension~=3.5.0 in /home/nbuser/anaconda3_420/lib/python3.5/site-packages (from ipywidgets==7.5.1->pandas-profiling[html,notebook]) (3.5.1)\nRequirement already satisfied: ipython>=4.0.0; python_version >= \"3.3\" in /home/nbuser/anaconda3_420/lib/python3.5/site-packages (from ipywidgets==7.5.1->pandas-profiling[html,notebook]) (6.2.1)\nRequirement already satisfied: nbformat>=4.2.0 in /home/nbuser/anaconda3_420/lib/python3.5/site-packages (from ipywidgets==7.5.1->pandas-profiling[html,notebook]) (4.2.0)\nRequirement already satisfied: pyyaml in /home/nbuser/anaconda3_420/lib/python3.5/site-packages (from confuse==1.0.0->pandas-profiling[html,notebook]) (3.13)\nCollecting chardet<3.1.0,>=3.0.2\n  Using cached https://files.pythonhosted.org/packages/bc/a9/01ffebfb562e4274b6487b4bb1ddec7ca55ec7510b22e4c51f14098443b8/chardet-3.0.4-py2.py3-none-any.whl\nRequirement already satisfied: urllib3!=1.25.0,!=1.25.1,<1.26,>=1.21.1 in /home/nbuser/anaconda3_420/lib/python3.5/site-packages (from requests==2.22.0->pandas-profiling[html,notebook]) (1.25.6)\nRequirement already satisfied: certifi>=2017.4.17 in /home/nbuser/anaconda3_420/lib/python3.5/site-packages (from requests==2.22.0->pandas-profiling[html,notebook]) (2019.9.11)\nRequirement already satisfied: idna<2.9,>=2.5 in /home/nbuser/anaconda3_420/lib/python3.5/site-packages (from requests==2.22.0->pandas-profiling[html,notebook]) (2.8)\nProcessing /home/nbuser/.cache/pip/wheels/f0/96/9b/1f8892a707d17095b5a6eab0275da9d39e68e03a26aee2e726/attr-0.3.1-cp35-none-any.whl\nRequirement already satisfied: networkx in /home/nbuser/anaconda3_420/lib/python3.5/site-packages (from visions==0.2.2->pandas-profiling[html,notebook]) (2.4)\nCollecting nbconvert>=5.3.1\n  Using cached https://files.pythonhosted.org/packages/79/6c/05a569e9f703d18aacb89b7ad6075b404e8a4afde2c26b73ca77bb644b14/nbconvert-5.6.1-py2.py3-none-any.whl\nCollecting pytest>=4.0.2\n  Using cached https://files.pythonhosted.org/packages/c7/e2/c19c667f42f72716a7d03e8dd4d6f63f47d39feadd44cc1ee7ca3089862c/pytest-5.4.1-py3-none-any.whl\nCollecting pytest-pylint>=0.13.0\n  Using cached https://files.pythonhosted.org/packages/a8/b0/00049ea1d50f314cbb3f63ee06ac289a09d809dc9b51f8f81c06783d7695/pytest_pylint-0.16.1-py3-none-any.whl\nCollecting numba>=0.38.1\n  Using cached https://files.pythonhosted.org/packages/05/c9/ad7e8968197028d4d55fe5f03c54d0f48cf7e975aca2d2bdccf9610d511b/numba-0.47.0-cp35-cp35m-manylinux1_x86_64.whl\nCollecting joblib>=0.14.1\n  Using cached https://files.pythonhosted.org/packages/28/5c/cf6a2b65a321c4a209efcdf64c2689efae2cb62661f8f6f4bb28547cf1bf/joblib-0.14.1-py2.py3-none-any.whl\nProcessing /home/nbuser/.cache/pip/wheels/11/94/81/312969455540cb0e6a773e5d68a73c14128bfdfd4a7969bb4f/python_slugify-4.0.0-py2.py3-none-any.whl\nRequirement already satisfied: six>=1.10 in /home/nbuser/anaconda3_420/lib/python3.5/site-packages (from kaggle==1.5.6->pandas-profiling[html,notebook]) (1.11.0)\nCollecting pytz>=2017.2\n  Using cached https://files.pythonhosted.org/packages/4f/a4/879454d49688e2fad93e59d7d4efda580b783c745fd2ec2a3adf87b0808d/pytz-2020.1-py2.py3-none-any.whl\nRequirement already satisfied: pyzmq>=13 in /home/nbuser/anaconda3_420/lib/python3.5/site-packages (from jupyter-client==5.3.4; extra == \"notebook\"->pandas-profiling[html,notebook]) (15.4.0)\nRequirement already satisfied: tornado>=4.1 in /home/nbuser/anaconda3_420/lib/python3.5/site-packages (from jupyter-client==5.3.4; extra == \"notebook\"->pandas-profiling[html,notebook]) (4.4.1)\nRequirement already satisfied: setuptools in /home/nbuser/anaconda3_420/lib/python3.5/site-packages (from kiwisolver>=1.0.1->matplotlib>=3.0.3->pandas-profiling[html,notebook]) (41.6.0)\n",
          "name": "stdout"
        },
        {
          "output_type": "stream",
          "text": "Requirement already satisfied: notebook>=4.4.1 in /home/nbuser/anaconda3_420/lib/python3.5/site-packages (from widgetsnbextension~=3.5.0->ipywidgets==7.5.1->pandas-profiling[html,notebook]) (5.0.0)\nRequirement already satisfied: jedi>=0.10 in /home/nbuser/anaconda3_420/lib/python3.5/site-packages (from ipython>=4.0.0; python_version >= \"3.3\"->ipywidgets==7.5.1->pandas-profiling[html,notebook]) (0.11.0)\nRequirement already satisfied: decorator in /home/nbuser/anaconda3_420/lib/python3.5/site-packages (from ipython>=4.0.0; python_version >= \"3.3\"->ipywidgets==7.5.1->pandas-profiling[html,notebook]) (4.4.1)\nRequirement already satisfied: pickleshare in /home/nbuser/anaconda3_420/lib/python3.5/site-packages (from ipython>=4.0.0; python_version >= \"3.3\"->ipywidgets==7.5.1->pandas-profiling[html,notebook]) (0.7.4)\nRequirement already satisfied: simplegeneric>0.8 in /home/nbuser/anaconda3_420/lib/python3.5/site-packages (from ipython>=4.0.0; python_version >= \"3.3\"->ipywidgets==7.5.1->pandas-profiling[html,notebook]) (0.8.1)\nRequirement already satisfied: prompt_toolkit<2.0.0,>=1.0.4 in /home/nbuser/anaconda3_420/lib/python3.5/site-packages (from ipython>=4.0.0; python_version >= \"3.3\"->ipywidgets==7.5.1->pandas-profiling[html,notebook]) (1.0.15)\nRequirement already satisfied: pygments in /home/nbuser/anaconda3_420/lib/python3.5/site-packages (from ipython>=4.0.0; python_version >= \"3.3\"->ipywidgets==7.5.1->pandas-profiling[html,notebook]) (2.1.3)\nRequirement already satisfied: pexpect in /home/nbuser/anaconda3_420/lib/python3.5/site-packages (from ipython>=4.0.0; python_version >= \"3.3\"->ipywidgets==7.5.1->pandas-profiling[html,notebook]) (4.0.1)\nCollecting testpath\n  Using cached https://files.pythonhosted.org/packages/1b/9e/1a170feaa54f22aeb5a5d16c9015e82234275a3c8ab630b552493f9cb8a9/testpath-0.4.4-py2.py3-none-any.whl\nCollecting bleach\n  Using cached https://files.pythonhosted.org/packages/9a/1e/7d6cb3b27cd2c490558349ca5d5cc05b390b017da1c704cac807ac8bd9fb/bleach-3.1.5-py2.py3-none-any.whl\nRequirement already satisfied: entrypoints>=0.2.2 in /home/nbuser/anaconda3_420/lib/python3.5/site-packages (from nbconvert>=5.3.1->phik==0.9.9->pandas-profiling[html,notebook]) (0.3)\nCollecting mistune<2,>=0.8.1\n  Using cached https://files.pythonhosted.org/packages/09/ec/4b43dae793655b7d8a25f76119624350b4d65eb663459eb9603d7f1f0345/mistune-0.8.4-py2.py3-none-any.whl\nProcessing /home/nbuser/.cache/pip/wheels/39/01/56/f1b08a6275acc59e846fa4c1e1b65dbc1919f20157d9e66c20/pandocfilters-1.4.2-cp35-none-any.whl\nCollecting defusedxml\n  Using cached https://files.pythonhosted.org/packages/06/74/9b387472866358ebc08732de3da6dc48e44b0aacd2ddaa5cb85ab7e986a2/defusedxml-0.6.0-py2.py3-none-any.whl\nCollecting more-itertools>=4.0.0\n  Using cached https://files.pythonhosted.org/packages/72/96/4297306cc270eef1e3461da034a3bebe7c84eff052326b130824e98fc3fb/more_itertools-8.2.0-py3-none-any.whl\nCollecting py>=1.5.0\n  Using cached https://files.pythonhosted.org/packages/99/8d/21e1767c009211a62a8e3067280bfce76e89c9f876180308515942304d2d/py-1.8.1-py2.py3-none-any.whl\nCollecting importlib-metadata>=0.12; python_version < \"3.8\"\n  Using cached https://files.pythonhosted.org/packages/ad/e4/891bfcaf868ccabc619942f27940c77a8a4b45fd8367098955bb7e152fb1/importlib_metadata-1.6.0-py2.py3-none-any.whl\nCollecting packaging\n  Using cached https://files.pythonhosted.org/packages/62/0a/34641d2bf5c917c96db0ded85ae4da25b6cd922d6b794648d4e7e07c88e5/packaging-20.3-py2.py3-none-any.whl\nRequirement already satisfied: attrs>=17.4.0 in /home/nbuser/anaconda3_420/lib/python3.5/site-packages (from pytest>=4.0.2->phik==0.9.9->pandas-profiling[html,notebook]) (19.3.0)\nCollecting pluggy<1.0,>=0.12\n  Using cached https://files.pythonhosted.org/packages/a0/28/85c7aa31b80d150b772fbe4a229487bc6644da9ccb7e427dd8cc60cb8a62/pluggy-0.13.1-py2.py3-none-any.whl\nRequirement already satisfied: wcwidth in /home/nbuser/anaconda3_420/lib/python3.5/site-packages (from pytest>=4.0.2->phik==0.9.9->pandas-profiling[html,notebook]) (0.1.7)\nCollecting pathlib2>=2.2.0; python_version < \"3.6\"\n  Using cached https://files.pythonhosted.org/packages/e9/45/9c82d3666af4ef9f221cbb954e1d77ddbb513faf552aea6df5f37f1a4859/pathlib2-2.3.5-py2.py3-none-any.whl\nCollecting toml>=0.7.1\n  Using cached https://files.pythonhosted.org/packages/a2/12/ced7105d2de62fa7c8fb5fce92cc4ce66b57c95fb875e9318dba7f8c5db0/toml-0.10.0-py2.py3-none-any.whl\nCollecting pylint>=2.3.0\n  Using cached https://files.pythonhosted.org/packages/64/9a/1c975d26b6148eb8dba4e50127382e37f9dfc2b18dafeb07e230901cbd38/pylint-2.5.0-py3-none-any.whl\nCollecting llvmlite>=0.31.0dev0\n  Using cached https://files.pythonhosted.org/packages/dc/8f/5c6d0e8be1585247c4fd33b84dc66d1fa6449b77d27f42a51d45242307c9/llvmlite-0.32.0.tar.gz\nCollecting text-unidecode>=1.3\n  Using cached https://files.pythonhosted.org/packages/a6/a5/c0b6468d3824fe3fde30dbb5e1f687b291608f9473681bbf7dabbf5a87d7/text_unidecode-1.3-py2.py3-none-any.whl\nRequirement already satisfied: parso==0.1.* in /home/nbuser/anaconda3_420/lib/python3.5/site-packages (from jedi>=0.10->ipython>=4.0.0; python_version >= \"3.3\"->ipywidgets==7.5.1->pandas-profiling[html,notebook]) (0.1.1)\nCollecting webencodings\n  Using cached https://files.pythonhosted.org/packages/f4/24/2a3e3df732393fed8b3ebf2ec078f05546de641fe1b667ee316ec1dcf3b7/webencodings-0.5.1-py2.py3-none-any.whl\nCollecting zipp>=0.5\n  Using cached https://files.pythonhosted.org/packages/96/0a/67556e9b7782df7118c1f49bdc494da5e5e429c93aa77965f33e81287c8c/zipp-1.2.0-py2.py3-none-any.whl\nCollecting isort<5,>=4.2.5\n  Using cached https://files.pythonhosted.org/packages/e5/b0/c121fd1fa3419ea9bfd55c7f9c4fedfec5143208d8c7ad3ce3db6c623c21/isort-4.3.21-py2.py3-none-any.whl\nCollecting mccabe<0.7,>=0.6\n  Using cached https://files.pythonhosted.org/packages/87/89/479dc97e18549e21354893e4ee4ef36db1d237534982482c3681ee6e7b57/mccabe-0.6.1-py2.py3-none-any.whl\nCollecting astroid<=2.5,>=2.4.0\n  Using cached https://files.pythonhosted.org/packages/7c/f6/880bade8329525fd9aa9051891b4b8fe2e52c7aab7412443f8743028a590/astroid-2.4.0-py3-none-any.whl\nProcessing /home/nbuser/.cache/pip/wheels/b1/c2/ed/d62208260edbd3fa7156545c00ef966f45f2063d0a84f8208a/wrapt-1.12.1-cp35-cp35m-linux_x86_64.whl\nCollecting lazy-object-proxy==1.4.*\n  Using cached https://files.pythonhosted.org/packages/54/d9/4288a0101a8860515aa2a76c3c5c3ffe7c7777b68ddffd2c7703a35e866e/lazy_object_proxy-1.4.3-cp35-cp35m-manylinux1_x86_64.whl\nCollecting typed-ast<1.5,>=1.4.0; implementation_name == \"cpython\" and python_version < \"3.8\"\n  Using cached https://files.pythonhosted.org/packages/96/d7/c964472320ea65f17b2874fff37560c3c7e862fe7993a4f215319fe43e1b/typed_ast-1.4.1-cp35-cp35m-manylinux1_x86_64.whl\nBuilding wheels for collected packages: llvmlite\n  Building wheel for llvmlite (setup.py) ... \u001b[?25lerror\n\u001b[31m  ERROR: Command errored out with exit status 1:\n   command: /home/nbuser/anaconda3_420/bin/python -u -c 'import sys, setuptools, tokenize; sys.argv[0] = '\"'\"'/tmp/pip-install-ljzs_nsc/llvmlite/setup.py'\"'\"'; __file__='\"'\"'/tmp/pip-install-ljzs_nsc/llvmlite/setup.py'\"'\"';f=getattr(tokenize, '\"'\"'open'\"'\"', open)(__file__);code=f.read().replace('\"'\"'\\r\\n'\"'\"', '\"'\"'\\n'\"'\"');f.close();exec(compile(code, __file__, '\"'\"'exec'\"'\"'))' bdist_wheel -d /tmp/pip-wheel-c3btzukc --python-tag cp35\n       cwd: /tmp/pip-install-ljzs_nsc/llvmlite/\n  Complete output (26 lines):\n  running bdist_wheel\n  /home/nbuser/anaconda3_420/bin/python /tmp/pip-install-ljzs_nsc/llvmlite/ffi/build.py\n  LLVM version... Traceback (most recent call last):\n    File \"/tmp/pip-install-ljzs_nsc/llvmlite/ffi/build.py\", line 106, in main_posix\n      out = subprocess.check_output([llvm_config, '--version'])\n    File \"/home/nbuser/anaconda3_420/lib/python3.5/subprocess.py\", line 316, in check_output\n      **kwargs).stdout\n    File \"/home/nbuser/anaconda3_420/lib/python3.5/subprocess.py\", line 383, in run\n      with Popen(*popenargs, **kwargs) as process:\n    File \"/home/nbuser/anaconda3_420/lib/python3.5/subprocess.py\", line 676, in __init__\n      restore_signals, start_new_session)\n    File \"/home/nbuser/anaconda3_420/lib/python3.5/subprocess.py\", line 1289, in _execute_child\n      raise child_exception_type(errno_num, err_msg)\n  FileNotFoundError: [Errno 2] No such file or directory: 'llvm-config'\n  \n  During handling of the above exception, another exception occurred:\n  \n  Traceback (most recent call last):\n    File \"/tmp/pip-install-ljzs_nsc/llvmlite/ffi/build.py\", line 168, in <module>\n      main()\n    File \"/tmp/pip-install-ljzs_nsc/llvmlite/ffi/build.py\", line 158, in main\n      main_posix('linux', '.so')\n    File \"/tmp/pip-install-ljzs_nsc/llvmlite/ffi/build.py\", line 109, in main_posix\n      \"to the path for llvm-config\" % (llvm_config,))\n  RuntimeError: llvm-config failed executing, please point LLVM_CONFIG to the path for llvm-config\n  error: command '/home/nbuser/anaconda3_420/bin/python' failed with exit status 1\n  ----------------------------------------\u001b[0m\n\u001b[31m  ERROR: Failed building wheel for llvmlite\u001b[0m\n\u001b[?25h  Running setup.py clean for llvmlite\n",
          "name": "stdout"
        },
        {
          "output_type": "stream",
          "text": "Failed to build llvmlite\n\u001b[31mERROR: kaggle 1.5.6 has requirement urllib3<1.25,>=1.21.1, but you'll have urllib3 1.25.6 which is incompatible.\u001b[0m\n\u001b[31mERROR: astroid 2.4.0 has requirement six~=1.12, but you'll have six 1.11.0 which is incompatible.\u001b[0m\n\u001b[31mERROR: azure-storage-blob 12.0.0 has requirement cryptography>=2.1.4, but you'll have cryptography 2.0.3 which is incompatible.\u001b[0m\n\u001b[31mERROR: azure-storage-queue 12.0.0 has requirement cryptography>=2.1.4, but you'll have cryptography 2.0.3 which is incompatible.\u001b[0m\n\u001b[31mERROR: nbconvert 5.6.1 has requirement nbformat>=4.4, but you'll have nbformat 4.2.0 which is incompatible.\u001b[0m\nInstalling collected packages: kiwisolver, matplotlib, missingno, jinja2, tangled-up-in-unicode, astropy, confuse, chardet, requests, tqdm, attr, pytz, pandas, visions, htmlmin, testpath, packaging, webencodings, bleach, mistune, jupyter-core, pandocfilters, defusedxml, nbconvert, more-itertools, py, zipp, importlib-metadata, pluggy, pathlib2, pytest, toml, isort, mccabe, wrapt, lazy-object-proxy, typed-ast, astroid, pylint, pytest-pylint, jupyter-client, llvmlite, numba, joblib, phik, text-unidecode, python-slugify, kaggle, pandas-profiling\n  Found existing installation: matplotlib 2.1.1\n    Uninstalling matplotlib-2.1.1:\n      Successfully uninstalled matplotlib-2.1.1\n  Found existing installation: Jinja2 2.8\n    Uninstalling Jinja2-2.8:\n      Successfully uninstalled Jinja2-2.8\n  Found existing installation: astropy 1.2.1\n    Uninstalling astropy-1.2.1:\n      Successfully uninstalled astropy-1.2.1\n  Found existing installation: requests 2.14.2\n    Uninstalling requests-2.14.2:\n      Successfully uninstalled requests-2.14.2\n  Found existing installation: tqdm 4.37.0\n    Uninstalling tqdm-4.37.0:\n      Successfully uninstalled tqdm-4.37.0\n  Found existing installation: pytz 2016.6.1\n\u001b[31mERROR: Cannot uninstall 'pytz'. It is a distutils installed project and thus we cannot accurately determine which files belong to it which would lead to only a partial uninstall.\u001b[0m\n\u001b[33mWARNING: You are using pip version 19.3.1; however, version 20.1 is available.\nYou should consider upgrading via the 'pip install --upgrade pip' command.\u001b[0m\n",
          "name": "stdout"
        }
      ]
    },
    {
      "metadata": {
        "trusted": true
      },
      "cell_type": "code",
      "source": "# kütüphanenin import edilmesi\nimport pandas as pd\n# pandas_profiling kütüphanesi\nfrom pandas_profiling import ProfileReport",
      "execution_count": 10,
      "outputs": [
        {
          "output_type": "error",
          "ename": "ImportError",
          "evalue": "No module named 'pandas_profiling'",
          "traceback": [
            "\u001b[0;31m---------------------------------------------------------------------------\u001b[0m",
            "\u001b[0;31mImportError\u001b[0m                               Traceback (most recent call last)",
            "\u001b[0;32m<ipython-input-10-b9b08650b1a2>\u001b[0m in \u001b[0;36m<module>\u001b[0;34m()\u001b[0m\n\u001b[1;32m      2\u001b[0m \u001b[0;32mimport\u001b[0m \u001b[0mpandas\u001b[0m \u001b[0;32mas\u001b[0m \u001b[0mpd\u001b[0m\u001b[0;34m\u001b[0m\u001b[0m\n\u001b[1;32m      3\u001b[0m \u001b[0;31m# pandas_profiling kütüphanesi\u001b[0m\u001b[0;34m\u001b[0m\u001b[0;34m\u001b[0m\u001b[0m\n\u001b[0;32m----> 4\u001b[0;31m \u001b[0;32mfrom\u001b[0m \u001b[0mpandas_profiling\u001b[0m \u001b[0;32mimport\u001b[0m \u001b[0mProfileReport\u001b[0m\u001b[0;34m\u001b[0m\u001b[0m\n\u001b[0m",
            "\u001b[0;31mImportError\u001b[0m: No module named 'pandas_profiling'"
          ]
        }
      ]
    },
    {
      "metadata": {
        "trusted": true
      },
      "cell_type": "code",
      "source": "import ipywidgets",
      "execution_count": 6,
      "outputs": []
    },
    {
      "metadata": {
        "trusted": true
      },
      "cell_type": "code",
      "source": "ipywidgets.__version__",
      "execution_count": 7,
      "outputs": [
        {
          "output_type": "execute_result",
          "execution_count": 7,
          "data": {
            "text/plain": "'7.5.1'"
          },
          "metadata": {}
        }
      ]
    },
    {
      "metadata": {
        "trusted": true
      },
      "cell_type": "code",
      "source": "import pandas_profiling\n# pandas_profiling versiyon\nprint(\"pandas_profiling versiyon \")\npandas_profiling.__version__",
      "execution_count": 8,
      "outputs": [
        {
          "output_type": "error",
          "ename": "ImportError",
          "evalue": "No module named 'pandas_profiling'",
          "traceback": [
            "\u001b[0;31m---------------------------------------------------------------------------\u001b[0m",
            "\u001b[0;31mImportError\u001b[0m                               Traceback (most recent call last)",
            "\u001b[0;32m<ipython-input-8-4213ab7e657c>\u001b[0m in \u001b[0;36m<module>\u001b[0;34m()\u001b[0m\n\u001b[0;32m----> 1\u001b[0;31m \u001b[0;32mimport\u001b[0m \u001b[0mpandas_profiling\u001b[0m\u001b[0;34m\u001b[0m\u001b[0m\n\u001b[0m\u001b[1;32m      2\u001b[0m \u001b[0;31m# pandas_profiling versiyon\u001b[0m\u001b[0;34m\u001b[0m\u001b[0;34m\u001b[0m\u001b[0m\n\u001b[1;32m      3\u001b[0m \u001b[0mprint\u001b[0m\u001b[0;34m(\u001b[0m\u001b[0;34m\"pandas_profiling versiyon \"\u001b[0m\u001b[0;34m)\u001b[0m\u001b[0;34m\u001b[0m\u001b[0m\n\u001b[1;32m      4\u001b[0m \u001b[0mpandas_profiling\u001b[0m\u001b[0;34m.\u001b[0m\u001b[0m__version__\u001b[0m\u001b[0;34m\u001b[0m\u001b[0m\n",
            "\u001b[0;31mImportError\u001b[0m: No module named 'pandas_profiling'"
          ]
        }
      ]
    },
    {
      "metadata": {
        "trusted": true
      },
      "cell_type": "code",
      "source": "df =pd.read_csv('forestfires.csv')",
      "execution_count": 35,
      "outputs": []
    },
    {
      "metadata": {
        "trusted": true
      },
      "cell_type": "code",
      "source": "print(df)#bütün dataframe in listesi 8.soru",
      "execution_count": 30,
      "outputs": [
        {
          "output_type": "stream",
          "text": "     X  Y month  day  FFMC    DMC     DC   ISI  temp  RH  wind  rain   area\n0    7  5   mar  fri  86.2   26.2   94.3   5.1   8.2  51   6.7   0.0   0.00\n1    7  4   oct  tue  90.6   35.4  669.1   6.7  18.0  33   0.9   0.0   0.00\n2    7  4   oct  sat  90.6   43.7  686.9   6.7  14.6  33   1.3   0.0   0.00\n3    8  6   mar  fri  91.7   33.3   77.5   9.0   8.3  97   4.0   0.2   0.00\n4    8  6   mar  sun  89.3   51.3  102.2   9.6  11.4  99   1.8   0.0   0.00\n5    8  6   aug  sun  92.3   85.3  488.0  14.7  22.2  29   5.4   0.0   0.00\n6    8  6   aug  mon  92.3   88.9  495.6   8.5  24.1  27   3.1   0.0   0.00\n7    8  6   aug  mon  91.5  145.4  608.2  10.7   8.0  86   2.2   0.0   0.00\n8    8  6   sep  tue  91.0  129.5  692.6   7.0  13.1  63   5.4   0.0   0.00\n9    7  5   sep  sat  92.5   88.0  698.6   7.1  22.8  40   4.0   0.0   0.00\n10   7  5   sep  sat  92.5   88.0  698.6   7.1  17.8  51   7.2   0.0   0.00\n11   7  5   sep  sat  92.8   73.2  713.0  22.6  19.3  38   4.0   0.0   0.00\n12   6  5   aug  fri  63.5   70.8  665.3   0.8  17.0  72   6.7   0.0   0.00\n13   6  5   sep  mon  90.9  126.5  686.5   7.0  21.3  42   2.2   0.0   0.00\n14   6  5   sep  wed  92.9  133.3  699.6   9.2  26.4  21   4.5   0.0   0.00\n15   6  5   sep  fri  93.3  141.2  713.9  13.9  22.9  44   5.4   0.0   0.00\n16   5  5   mar  sat  91.7   35.8   80.8   7.8  15.1  27   5.4   0.0   0.00\n17   8  5   oct  mon  84.9   32.8  664.2   3.0  16.7  47   4.9   0.0   0.00\n18   6  4   mar  wed  89.2   27.9   70.8   6.3  15.9  35   4.0   0.0   0.00\n19   6  4   apr  sat  86.3   27.4   97.1   5.1   9.3  44   4.5   0.0   0.00\n20   6  4   sep  tue  91.0  129.5  692.6   7.0  18.3  40   2.7   0.0   0.00\n21   5  4   sep  mon  91.8   78.5  724.3   9.2  19.1  38   2.7   0.0   0.00\n22   7  4   jun  sun  94.3   96.3  200.0  56.1  21.0  44   4.5   0.0   0.00\n23   7  4   aug  sat  90.2  110.9  537.4   6.2  19.5  43   5.8   0.0   0.00\n24   7  4   aug  sat  93.5  139.4  594.2  20.3  23.7  32   5.8   0.0   0.00\n25   7  4   aug  sun  91.4  142.4  601.4  10.6  16.3  60   5.4   0.0   0.00\n26   7  4   sep  fri  92.4  117.9  668.0  12.2  19.0  34   5.8   0.0   0.00\n27   7  4   sep  mon  90.9  126.5  686.5   7.0  19.4  48   1.3   0.0   0.00\n28   6  3   sep  sat  93.4  145.4  721.4   8.1  30.2  24   2.7   0.0   0.00\n29   6  3   sep  sun  93.5  149.3  728.6   8.1  22.8  39   3.6   0.0   0.00\n..  .. ..   ...  ...   ...    ...    ...   ...   ...  ..   ...   ...    ...\n487  5  4   aug  tue  95.1  141.3  605.8  17.7  26.4  34   3.6   0.0  16.40\n488  4  4   aug  tue  95.1  141.3  605.8  17.7  19.4  71   7.6   0.0  46.70\n489  4  4   aug  wed  95.1  141.3  605.8  17.7  20.6  58   1.3   0.0   0.00\n490  4  4   aug  wed  95.1  141.3  605.8  17.7  28.7  33   4.0   0.0   0.00\n491  4  4   aug  thu  95.8  152.0  624.1  13.8  32.4  21   4.5   0.0   0.00\n492  1  3   aug  fri  95.9  158.0  633.6  11.3  32.4  27   2.2   0.0   0.00\n493  1  3   aug  fri  95.9  158.0  633.6  11.3  27.5  29   4.5   0.0  43.32\n494  6  6   aug  sat  96.0  164.0  643.0  14.0  30.8  30   4.9   0.0   8.59\n495  6  6   aug  mon  96.2  175.5  661.8  16.8  23.9  42   2.2   0.0   0.00\n496  4  5   aug  mon  96.2  175.5  661.8  16.8  32.6  26   3.1   0.0   2.77\n497  3  4   aug  tue  96.1  181.1  671.2  14.3  32.3  27   2.2   0.0  14.68\n498  6  5   aug  tue  96.1  181.1  671.2  14.3  33.3  26   2.7   0.0  40.54\n499  7  5   aug  tue  96.1  181.1  671.2  14.3  27.3  63   4.9   6.4  10.82\n500  8  6   aug  tue  96.1  181.1  671.2  14.3  21.6  65   4.9   0.8   0.00\n501  7  5   aug  tue  96.1  181.1  671.2  14.3  21.6  65   4.9   0.8   0.00\n502  4  4   aug  tue  96.1  181.1  671.2  14.3  20.7  69   4.9   0.4   0.00\n503  2  4   aug  wed  94.5  139.4  689.1  20.0  29.2  30   4.9   0.0   1.95\n504  4  3   aug  wed  94.5  139.4  689.1  20.0  28.9  29   4.9   0.0  49.59\n505  1  2   aug  thu  91.0  163.2  744.4  10.1  26.7  35   1.8   0.0   5.80\n506  1  2   aug  fri  91.0  166.9  752.6   7.1  18.5  73   8.5   0.0   0.00\n507  2  4   aug  fri  91.0  166.9  752.6   7.1  25.9  41   3.6   0.0   0.00\n508  1  2   aug  fri  91.0  166.9  752.6   7.1  25.9  41   3.6   0.0   0.00\n509  5  4   aug  fri  91.0  166.9  752.6   7.1  21.1  71   7.6   1.4   2.17\n510  6  5   aug  fri  91.0  166.9  752.6   7.1  18.2  62   5.4   0.0   0.43\n511  8  6   aug  sun  81.6   56.7  665.6   1.9  27.8  35   2.7   0.0   0.00\n512  4  3   aug  sun  81.6   56.7  665.6   1.9  27.8  32   2.7   0.0   6.44\n513  2  4   aug  sun  81.6   56.7  665.6   1.9  21.9  71   5.8   0.0  54.29\n514  7  4   aug  sun  81.6   56.7  665.6   1.9  21.2  70   6.7   0.0  11.16\n515  1  4   aug  sat  94.4  146.0  614.7  11.3  25.6  42   4.0   0.0   0.00\n516  6  3   nov  tue  79.5    3.0  106.7   1.1  11.8  31   4.5   0.0   0.00\n\n[517 rows x 13 columns]\n",
          "name": "stdout"
        }
      ]
    },
    {
      "metadata": {
        "trusted": true
      },
      "cell_type": "code",
      "source": "df.describe()",
      "execution_count": 38,
      "outputs": [
        {
          "output_type": "error",
          "ename": "ImportError",
          "evalue": "cannot import name 'is_url'",
          "traceback": [
            "\u001b[0;31m---------------------------------------------------------------------------\u001b[0m",
            "\u001b[0;31mImportError\u001b[0m                               Traceback (most recent call last)",
            "\u001b[0;32m~/anaconda3_501/lib/python3.6/site-packages/IPython/core/formatters.py\u001b[0m in \u001b[0;36m__call__\u001b[0;34m(self, obj)\u001b[0m\n\u001b[1;32m    343\u001b[0m             \u001b[0mmethod\u001b[0m \u001b[0;34m=\u001b[0m \u001b[0mget_real_method\u001b[0m\u001b[0;34m(\u001b[0m\u001b[0mobj\u001b[0m\u001b[0;34m,\u001b[0m \u001b[0mself\u001b[0m\u001b[0;34m.\u001b[0m\u001b[0mprint_method\u001b[0m\u001b[0;34m)\u001b[0m\u001b[0;34m\u001b[0m\u001b[0m\n\u001b[1;32m    344\u001b[0m             \u001b[0;32mif\u001b[0m \u001b[0mmethod\u001b[0m \u001b[0;32mis\u001b[0m \u001b[0;32mnot\u001b[0m \u001b[0;32mNone\u001b[0m\u001b[0;34m:\u001b[0m\u001b[0;34m\u001b[0m\u001b[0m\n\u001b[0;32m--> 345\u001b[0;31m                 \u001b[0;32mreturn\u001b[0m \u001b[0mmethod\u001b[0m\u001b[0;34m(\u001b[0m\u001b[0;34m)\u001b[0m\u001b[0;34m\u001b[0m\u001b[0m\n\u001b[0m\u001b[1;32m    346\u001b[0m             \u001b[0;32mreturn\u001b[0m \u001b[0;32mNone\u001b[0m\u001b[0;34m\u001b[0m\u001b[0m\n\u001b[1;32m    347\u001b[0m         \u001b[0;32melse\u001b[0m\u001b[0;34m:\u001b[0m\u001b[0;34m\u001b[0m\u001b[0m\n",
            "\u001b[0;32m~/anaconda3_501/lib/python3.6/site-packages/pandas/core/frame.py\u001b[0m in \u001b[0;36m_repr_html_\u001b[0;34m(self)\u001b[0m\n\u001b[1;32m    694\u001b[0m         \u001b[0mReturn\u001b[0m \u001b[0ma\u001b[0m \u001b[0mhtml\u001b[0m \u001b[0mrepresentation\u001b[0m \u001b[0;32mfor\u001b[0m \u001b[0ma\u001b[0m \u001b[0mparticular\u001b[0m \u001b[0mDataFrame\u001b[0m\u001b[0;34m.\u001b[0m\u001b[0;34m\u001b[0m\u001b[0m\n\u001b[1;32m    695\u001b[0m \u001b[0;34m\u001b[0m\u001b[0m\n\u001b[0;32m--> 696\u001b[0;31m         \u001b[0mMainly\u001b[0m \u001b[0;32mfor\u001b[0m \u001b[0mIPython\u001b[0m \u001b[0mnotebook\u001b[0m\u001b[0;34m.\u001b[0m\u001b[0;34m\u001b[0m\u001b[0m\n\u001b[0m\u001b[1;32m    697\u001b[0m         \"\"\"\n\u001b[1;32m    698\u001b[0m         \u001b[0;32mif\u001b[0m \u001b[0mself\u001b[0m\u001b[0;34m.\u001b[0m\u001b[0m_info_repr\u001b[0m\u001b[0;34m(\u001b[0m\u001b[0;34m)\u001b[0m\u001b[0;34m:\u001b[0m\u001b[0;34m\u001b[0m\u001b[0m\n",
            "\u001b[0;32m~/anaconda3_501/lib/python3.6/site-packages/pandas/core/frame.py\u001b[0m in \u001b[0;36mto_html\u001b[0;34m(self, buf, columns, col_space, header, index, na_rep, formatters, float_format, sparsify, index_names, justify, bold_rows, classes, escape, max_rows, max_cols, show_dimensions, notebook, decimal, border, table_id)\u001b[0m\n\u001b[1;32m   2035\u001b[0m     ) -> None:\n\u001b[1;32m   2036\u001b[0m         \"\"\"\n\u001b[0;32m-> 2037\u001b[0;31m         \u001b[0mWrite\u001b[0m \u001b[0ma\u001b[0m \u001b[0mDataFrame\u001b[0m \u001b[0mto\u001b[0m \u001b[0mthe\u001b[0m \u001b[0mbinary\u001b[0m \u001b[0mparquet\u001b[0m \u001b[0mformat\u001b[0m\u001b[0;34m.\u001b[0m\u001b[0;34m\u001b[0m\u001b[0m\n\u001b[0m\u001b[1;32m   2038\u001b[0m \u001b[0;34m\u001b[0m\u001b[0m\n\u001b[1;32m   2039\u001b[0m         \u001b[0;34m.\u001b[0m\u001b[0;34m.\u001b[0m \u001b[0mversionadded\u001b[0m\u001b[0;34m:\u001b[0m\u001b[0;34m:\u001b[0m \u001b[0;36m0.21\u001b[0m\u001b[0;36m.0\u001b[0m\u001b[0;34m\u001b[0m\u001b[0m\n",
            "\u001b[0;32m~/anaconda3_501/lib/python3.6/site-packages/pandas/io/formats/format.py\u001b[0m in \u001b[0;36mto_html\u001b[0;34m(self, classes, notebook, border)\u001b[0m\n\u001b[1;32m    745\u001b[0m                 \u001b[0mstr_columns\u001b[0m \u001b[0;34m=\u001b[0m \u001b[0;34m[\u001b[0m\u001b[0;34m[\u001b[0m\u001b[0mlabel\u001b[0m\u001b[0;34m]\u001b[0m \u001b[0;32mfor\u001b[0m \u001b[0mlabel\u001b[0m \u001b[0;32min\u001b[0m \u001b[0mself\u001b[0m\u001b[0;34m.\u001b[0m\u001b[0mheader\u001b[0m\u001b[0;34m]\u001b[0m\u001b[0;34m\u001b[0m\u001b[0m\n\u001b[1;32m    746\u001b[0m             \u001b[0;32melse\u001b[0m\u001b[0;34m:\u001b[0m\u001b[0;34m\u001b[0m\u001b[0m\n\u001b[0;32m--> 747\u001b[0;31m                 \u001b[0mstr_columns\u001b[0m \u001b[0;34m=\u001b[0m \u001b[0mself\u001b[0m\u001b[0;34m.\u001b[0m\u001b[0m_get_formatted_column_labels\u001b[0m\u001b[0;34m(\u001b[0m\u001b[0mframe\u001b[0m\u001b[0;34m)\u001b[0m\u001b[0;34m\u001b[0m\u001b[0m\n\u001b[0m\u001b[1;32m    748\u001b[0m \u001b[0;34m\u001b[0m\u001b[0m\n\u001b[1;32m    749\u001b[0m             \u001b[0;32mif\u001b[0m \u001b[0mself\u001b[0m\u001b[0;34m.\u001b[0m\u001b[0mshow_row_idx_names\u001b[0m\u001b[0;34m:\u001b[0m\u001b[0;34m\u001b[0m\u001b[0m\n",
            "\u001b[0;32m~/anaconda3_501/lib/python3.6/site-packages/pandas/io/formats/html.py\u001b[0m in \u001b[0;36m<module>\u001b[0;34m\u001b[0m\n\u001b[1;32m     14\u001b[0m \u001b[0;32mfrom\u001b[0m \u001b[0mpandas\u001b[0m \u001b[0;32mimport\u001b[0m \u001b[0moption_context\u001b[0m\u001b[0;34m\u001b[0m\u001b[0m\n\u001b[1;32m     15\u001b[0m \u001b[0;34m\u001b[0m\u001b[0m\n\u001b[0;32m---> 16\u001b[0;31m \u001b[0;32mfrom\u001b[0m \u001b[0mpandas\u001b[0m\u001b[0;34m.\u001b[0m\u001b[0mio\u001b[0m\u001b[0;34m.\u001b[0m\u001b[0mcommon\u001b[0m \u001b[0;32mimport\u001b[0m \u001b[0mis_url\u001b[0m\u001b[0;34m\u001b[0m\u001b[0m\n\u001b[0m\u001b[1;32m     17\u001b[0m from pandas.io.formats.format import (\n\u001b[1;32m     18\u001b[0m     \u001b[0mDataFrameFormatter\u001b[0m\u001b[0;34m,\u001b[0m\u001b[0;34m\u001b[0m\u001b[0m\n",
            "\u001b[0;31mImportError\u001b[0m: cannot import name 'is_url'"
          ]
        },
        {
          "output_type": "execute_result",
          "execution_count": 38,
          "data": {
            "text/plain": "                X           Y        FFMC         DMC          DC         ISI  \\\ncount  517.000000  517.000000  517.000000  517.000000  517.000000  517.000000   \nmean     4.669246    4.299807   90.644681  110.872340  547.940039    9.021663   \nstd      2.313778    1.229900    5.520111   64.046482  248.066192    4.559477   \nmin      1.000000    2.000000   18.700000    1.100000    7.900000    0.000000   \n25%      3.000000    4.000000   90.200000   68.600000  437.700000    6.500000   \n50%      4.000000    4.000000   91.600000  108.300000  664.200000    8.400000   \n75%      7.000000    5.000000   92.900000  142.400000  713.900000   10.800000   \nmax      9.000000    9.000000   96.200000  291.300000  860.600000   56.100000   \n\n             temp          RH        wind        rain         area  \ncount  517.000000  517.000000  517.000000  517.000000   517.000000  \nmean    18.889168   44.288201    4.017602    0.021663    12.847292  \nstd      5.806625   16.317469    1.791653    0.295959    63.655818  \nmin      2.200000   15.000000    0.400000    0.000000     0.000000  \n25%     15.500000   33.000000    2.700000    0.000000     0.000000  \n50%     19.300000   42.000000    4.000000    0.000000     0.520000  \n75%     22.800000   53.000000    4.900000    0.000000     6.570000  \nmax     33.300000  100.000000    9.400000    6.400000  1090.840000  "
          },
          "metadata": {}
        }
      ]
    },
    {
      "metadata": {
        "trusted": true
      },
      "cell_type": "code",
      "source": "",
      "execution_count": null,
      "outputs": []
    },
    {
      "metadata": {
        "trusted": true
      },
      "cell_type": "code",
      "source": "",
      "execution_count": null,
      "outputs": []
    },
    {
      "metadata": {
        "trusted": true
      },
      "cell_type": "code",
      "source": "",
      "execution_count": null,
      "outputs": []
    },
    {
      "metadata": {
        "trusted": true
      },
      "cell_type": "code",
      "source": "",
      "execution_count": null,
      "outputs": []
    },
    {
      "metadata": {
        "trusted": true
      },
      "cell_type": "code",
      "source": "",
      "execution_count": null,
      "outputs": []
    }
  ],
  "metadata": {
    "kernelspec": {
      "name": "python3",
      "display_name": "Python 3",
      "language": "python"
    },
    "language_info": {
      "mimetype": "text/x-python",
      "nbconvert_exporter": "python",
      "name": "python",
      "file_extension": ".py",
      "version": "3.5.4",
      "pygments_lexer": "ipython3",
      "codemirror_mode": {
        "version": 3,
        "name": "ipython"
      }
    }
  },
  "nbformat": 4,
  "nbformat_minor": 2
}